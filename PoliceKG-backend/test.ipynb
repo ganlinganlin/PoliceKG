{
 "cells": [
  {
   "cell_type": "code",
   "execution_count": null,
   "id": "5ef2e187",
   "metadata": {},
   "outputs": [],
   "source": []
  },
  {
   "cell_type": "code",
   "execution_count": null,
   "id": "9f13242f",
   "metadata": {
    "is_executing": true
   },
   "outputs": [],
   "source": [
    "from datetime import datetime, timedelta\n",
    "from dateutil.relativedelta import relativedelta\n"
   ]
  },
  {
   "cell_type": "code",
   "execution_count": 13,
   "id": "59f84010",
   "metadata": {},
   "outputs": [],
   "source": [
    "def get_one_week_ago(input_time_str):\n",
    "    # 将字符串表示的时间转换为 datetime 对象\n",
    "    input_time = datetime.strptime(input_time_str, '%Y-%m-%d')\n",
    "\n",
    "    # 计算一周前的时间\n",
    "    one_week_ago = input_time - timedelta(weeks=1)\n",
    "    # 将结果格式化为字符串\n",
    "    one_week_ago_str = one_week_ago.strftime('%Y-%m-%d')\n",
    "    \n",
    "    return one_week_ago_str\n",
    "\n",
    "def get_one_year_ago(input_time_str):\n",
    "    # 将字符串表示的时间转换为 datetime 对象\n",
    "    input_time = datetime.strptime(input_time_str, '%Y-%m-%d')\n",
    "\n",
    "    # 计算一年前的时间\n",
    "    one_year_ago = input_time - relativedelta(years=1)\n",
    "    # 将结果格式化为字符串\n",
    "    one_year_ago_str = one_year_ago.strftime('%Y-%m-%d')\n",
    "\n",
    "    return one_year_ago_str\n"
   ]
  },
  {
   "cell_type": "code",
   "execution_count": 14,
   "id": "68d78df4",
   "metadata": {},
   "outputs": [
    {
     "name": "stdout",
     "output_type": "stream",
     "text": [
      "一周前的时间： 2022-12-25\n"
     ]
    }
   ],
   "source": [
    "# 用法示例\n",
    "input_time_str = '2023-01-01'\n",
    "result = get_one_week_ago(input_time_str)\n",
    "print(\"一周前的时间：\", result)"
   ]
  },
  {
   "cell_type": "code",
   "execution_count": 15,
   "id": "31c9223c",
   "metadata": {},
   "outputs": [
    {
     "name": "stdout",
     "output_type": "stream",
     "text": [
      "一年前的时间： 2022-01-01\n"
     ]
    }
   ],
   "source": [
    "input_time_str = '2023-01-01'\n",
    "result = get_one_year_ago(input_time_str)\n",
    "print(\"一年前的时间：\", result)"
   ]
  },
  {
   "cell_type": "code",
   "execution_count": 25,
   "id": "7cb16be4",
   "metadata": {},
   "outputs": [
    {
     "name": "stdout",
     "output_type": "stream",
     "text": [
      "两个时间之间的天数差异： 4 天\n"
     ]
    }
   ],
   "source": [
    "from datetime import datetime\n",
    "\n",
    "def calculate_days_difference(time_str1, time_str2):\n",
    "    # 将字符串表示的时间转换为 datetime 对象\n",
    "    time1 = datetime.strptime(time_str1, '%Y-%m-%d %H:%M:%S')\n",
    "    time2 = datetime.strptime(time_str2, '%Y-%m-%d %H:%M:%S')\n",
    "\n",
    "    # 计算时间差\n",
    "    time_difference = abs(time1 - time2)\n",
    "\n",
    "    # 获取天数部分\n",
    "    days_difference = time_difference.days\n",
    "\n",
    "    return days_difference + 1\n",
    "\n",
    "# 用法示例\n",
    "time_str1 = '2023-02-28 11:00:00'\n",
    "time_str2 = '2023-03-03 12:00:00'\n",
    "result = calculate_days_difference(time_str1, time_str2)\n",
    "print(\"两个时间之间的天数差异：\", result, \"天\")"
   ]
  },
  {
   "cell_type": "code",
   "execution_count": null,
   "id": "656a7cf2",
   "metadata": {},
   "outputs": [],
   "source": [
    "\n"
   ]
  },
  {
   "cell_type": "code",
   "execution_count": 29,
   "id": "7b4cc27a",
   "metadata": {},
   "outputs": [
    {
     "name": "stdout",
     "output_type": "stream",
     "text": [
      "同比增长率为： -99.90%\n"
     ]
    }
   ],
   "source": [
    "def calculate_yoy_growth_rate(current_year_value, last_year_value):\n",
    "    try:\n",
    "        # 计算同比增长率\n",
    "        yoy_growth_rate = ((current_year_value - last_year_value) / abs(last_year_value)) * 100\n",
    "        return yoy_growth_rate\n",
    "    except ZeroDivisionError:\n",
    "        # 处理除零错误（如果去年值为零）\n",
    "        return float('inf')\n",
    "\n",
    "# 用法示例\n",
    "current_year_value = 2\n",
    "last_year_value = 1999\n",
    "yoy_growth_rate = calculate_yoy_growth_rate(current_year_value, last_year_value)\n",
    "\n",
    "if yoy_growth_rate == float('inf'):\n",
    "    print(\"去年值为零，无法计算同比增长率。\")\n",
    "else:\n",
    "    print(\"同比增长率为： {:.2f}%\".format(yoy_growth_rate))\n"
   ]
  },
  {
   "cell_type": "code",
   "execution_count": null,
   "id": "9b99ce8f",
   "metadata": {},
   "outputs": [],
   "source": []
  },
  {
   "cell_type": "code",
   "execution_count": 31,
   "id": "4e780fa7",
   "metadata": {},
   "outputs": [
    {
     "name": "stdout",
     "output_type": "stream",
     "text": [
      "{'key1': 'value1', 'key2': 'value2', 'new_key': 1}\n"
     ]
    }
   ],
   "source": [
    "# 已有的包含键值对的字典\n",
    "existing_dict = {'key1': 'value1', 'key2': 'value2'}\n",
    "\n",
    "# 定义一个新的变量\n",
    "new_value = 1\n",
    "\n",
    "# 添加新的键值对，值为变量\n",
    "existing_dict['new_key'] = new_value\n",
    "\n",
    "# 打印结果\n",
    "print(existing_dict)\n"
   ]
  },
  {
   "cell_type": "code",
   "execution_count": null,
   "id": "7f0f7f89",
   "metadata": {},
   "outputs": [],
   "source": []
  },
  {
   "cell_type": "code",
   "execution_count": 2,
   "id": "b50db73d",
   "metadata": {},
   "outputs": [],
   "source": [
    "type_list = ['event','ce:Criminal_EVENT','ae:Administrative_EVENT','te:Traffic_EVENT']\n",
    "type_list1 = {\n",
    "    'event':'event',\n",
    "    'ce':'ce:Criminal_EVENT',\n",
    "    'ae':'ae:Administrative_EVENT',\n",
    "    'te':'te:Traffic_EVENT'\n",
    "}"
   ]
  },
  {
   "cell_type": "code",
   "execution_count": null,
   "id": "31197331",
   "metadata": {},
   "outputs": [],
   "source": []
  },
  {
   "cell_type": "code",
   "execution_count": 28,
   "id": "46dd2eb1",
   "metadata": {},
   "outputs": [
    {
     "name": "stdout",
     "output_type": "stream",
     "text": [
      "['event', 'ce', 'ae', 'te']\n",
      "['event', 'ce:Criminal_EVENT', 'ae:Administrative_EVENT', 'te:Traffic_EVENT']\n"
     ]
    }
   ],
   "source": [
    "type_list = {\n",
    "            'event': 'event',\n",
    "            'ce': 'ce:Criminal_EVENT',\n",
    "            'ae': 'ae:Administrative_EVENT',\n",
    "            'te': 'te:Traffic_EVENT'\n",
    "        }\n",
    "keys_list = list(type_list.keys())\n",
    "values_set = list(type_list.values())\n",
    "# 打印集合\n",
    "print(keys_list)\n",
    "print(values_set)"
   ]
  },
  {
   "cell_type": "code",
   "execution_count": 25,
   "id": "0bbda26d",
   "metadata": {},
   "outputs": [
    {
     "name": "stdout",
     "output_type": "stream",
     "text": [
      "event\n",
      "ce:Criminal_EVENT\n",
      "ae:Administrative_EVENT\n",
      "te:Traffic_EVENT\n"
     ]
    }
   ],
   "source": [
    "for i in range(len(type_list)):\n",
    "    print(values_set[i])\n",
    "keys_list = list(type_list.keys())\n",
    "values_set = list(type_list.values())"
   ]
  },
  {
   "cell_type": "code",
   "execution_count": 26,
   "id": "b1270cf4",
   "metadata": {},
   "outputs": [
    {
     "name": "stdout",
     "output_type": "stream",
     "text": [
      "match data=(t:TIME)-[r1:`事件时间`]->(te:Traffic_EVENT)-[r2:`事件地点`]->(a:ADDRESS) where '%s' <= t.time <= '%s' RETURN COUNT(te) AS count_events\n"
     ]
    }
   ],
   "source": [
    "print(\"match data=(t:TIME)-[r1:`事件时间`]->(\"+values_set[i]+\")-[r2:`事件地点`]->(a:ADDRESS) where '%s' <= t.time <= '%s' RETURN COUNT(\"+keys_list[i]+\") AS count_events\")"
   ]
  },
  {
   "cell_type": "code",
   "execution_count": null,
   "id": "146ea54a",
   "metadata": {},
   "outputs": [],
   "source": []
  },
  {
   "cell_type": "code",
   "execution_count": 3,
   "id": "3970103c",
   "metadata": {},
   "outputs": [],
   "source": [
    "from datetime import datetime, timedelta\n",
    "\n",
    "def adjust_dates(start_date_str, end_date_str):\n",
    "    # 将字符串转换为日期对象\n",
    "    start_date = datetime.strptime(start_date_str, '%Y-%m-%d')\n",
    "    end_date = datetime.strptime(end_date_str, '%Y-%m-%d')\n",
    "\n",
    "    # 将初始时间调整为每年的1月1日\n",
    "    adjusted_start_date = datetime(start_date.year, 1, 1)\n",
    "\n",
    "    # 将终止时间调整为相同年份的那个月份的1日\n",
    "    adjusted_end_date = datetime(end_date.year, end_date.month, 1)\n",
    "\n",
    "    # 返回调整后的日期字符串\n",
    "    return adjusted_start_date.strftime('%Y-%m-%d'), adjusted_end_date.strftime('%Y-%m-%d')\n"
   ]
  },
  {
   "cell_type": "code",
   "execution_count": 4,
   "id": "af9c5ebf",
   "metadata": {},
   "outputs": [
    {
     "name": "stdout",
     "output_type": "stream",
     "text": [
      "调整后的日期范围为 2023-01-01 至 2023-08-01\n"
     ]
    }
   ],
   "source": [
    "\n",
    "# 示例\n",
    "start_date1, end_date1 = adjust_dates(\"2023-08-03\", \"2023-08-09\")\n",
    "print(f\"调整后的日期范围为 {start_date1} 至 {end_date1}\")\n",
    "\n"
   ]
  },
  {
   "cell_type": "code",
   "execution_count": 6,
   "id": "7d0216f6",
   "metadata": {},
   "outputs": [
    {
     "name": "stdout",
     "output_type": "stream",
     "text": [
      "调整后的日期范围为 2023-01-01 至 2023-11-01\n"
     ]
    }
   ],
   "source": [
    "start_date2, end_date2 = adjust_dates(\"2023-10-03\", \"2023-11-23\")\n",
    "print(f\"调整后的日期范围为 {start_date2} 至 {end_date2}\")\n"
   ]
  },
  {
   "cell_type": "code",
   "execution_count": null,
   "id": "e13302a6",
   "metadata": {},
   "outputs": [],
   "source": []
  }
 ],
 "metadata": {
  "kernelspec": {
   "display_name": "Python 3 (ipykernel)",
   "language": "python",
   "name": "python3"
  },
  "language_info": {
   "codemirror_mode": {
    "name": "ipython",
    "version": 3
   },
   "file_extension": ".py",
   "mimetype": "text/x-python",
   "name": "python",
   "nbconvert_exporter": "python",
   "pygments_lexer": "ipython3",
   "version": "3.11.5"
  }
 },
 "nbformat": 4,
 "nbformat_minor": 5
}
